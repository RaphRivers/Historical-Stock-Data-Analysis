{
 "cells": [
  {
   "cell_type": "markdown",
   "id": "1a7b86ac-097b-49dc-836c-cb0db50c0580",
   "metadata": {},
   "source": [
    "## Data Collection and Pre Processing"
   ]
  },
  {
   "cell_type": "code",
   "execution_count": 1,
   "id": "83b69584-15a7-4b34-a168-e472fc825ba2",
   "metadata": {},
   "outputs": [],
   "source": [
    "# install and call required packages\n",
    "from pandas_datareader import data, wb\n",
    "import pandas as pd\n",
    "import numpy as np\n",
    "import seaborn as sns\n",
    "import datetime as dt\n",
    "import yfinance as yf\n",
    "%matplotlib inline"
   ]
  },
  {
   "cell_type": "markdown",
   "id": "694b1aa1-9f3d-45b3-b104-1898ce9f589e",
   "metadata": {},
   "source": [
    "Import banks historical stock data including start and end periods, OHLC data, stock dividen(optional), pre and post market data"
   ]
  },
  {
   "cell_type": "code",
   "execution_count": 2,
   "id": "d6eab7ec-9dc9-49c7-a668-c41ff140258e",
   "metadata": {},
   "outputs": [
    {
     "name": "stderr",
     "output_type": "stream",
     "text": [
      "[*********************100%%**********************]  1 of 1 completed\n",
      "[*********************100%%**********************]  1 of 1 completed\n",
      "[*********************100%%**********************]  1 of 1 completed\n",
      "[*********************100%%**********************]  1 of 1 completed\n",
      "[*********************100%%**********************]  1 of 1 completed\n",
      "[*********************100%%**********************]  1 of 1 completed\n"
     ]
    }
   ],
   "source": [
    "# Create an DataFrame to store each bank stocks data\n",
    "BAC = yf.download('BAC', start='2018-1-1', end='2023-12-31') # bank of america\n",
    "C = yf.download('C', start='2018-1-1', end='2023-12-31') # citi group\n",
    "GS = yf.download('GS', start='2018-1-1', end='2023-12-31') # goldman sachs\n",
    "JPM = yf.download('JPM', start='2018-1-1', end='2023-12-31') #JP morgan\n",
    "MS = yf.download('MS', start='2018-1-1', end='2023-12-31') # morgan stanley\n",
    "WFC = yf.download('WFC', start='2018-1-1', end='2023-12-31') # well fargo"
   ]
  },
  {
   "cell_type": "code",
   "execution_count": 3,
   "id": "c725cbee-5748-45a2-9459-e890cd7576ce",
   "metadata": {},
   "outputs": [],
   "source": [
    "# Create a list of the ticker symbols (as strings)\n",
    "tickers = ['BAC', 'C', 'GS', 'JPM', 'MS', 'WFC'] # group banks tickers in a listb"
   ]
  },
  {
   "cell_type": "code",
   "execution_count": 4,
   "id": "84ca5b75-44e2-4c86-b6c5-999989246300",
   "metadata": {},
   "outputs": [],
   "source": [
    "# concatenate the bank dataframes together to a single data frame called stocks. \n",
    "stocks = pd.concat([BAC, C, GS, JPM, MS, WFC],axis=1,keys=tickers)"
   ]
  },
  {
   "cell_type": "code",
   "execution_count": 5,
   "id": "006feae6-48df-4f33-80bc-d282a1c2d0a4",
   "metadata": {},
   "outputs": [],
   "source": [
    "# Set the column name levels\n",
    "stocks.columns.names = ['Ticker','Stock Info']"
   ]
  },
  {
   "cell_type": "markdown",
   "id": "68253667-d0ce-4f1a-92b2-e06a7089a43b",
   "metadata": {},
   "source": [
    "### Clean and preprocess the data. Handle missing values, outliers, and ensure data types are correct."
   ]
  },
  {
   "cell_type": "code",
   "execution_count": 6,
   "id": "8c3bf71d-fe1a-4cbf-951a-c332e60c696d",
   "metadata": {},
   "outputs": [
    {
     "data": {
      "text/html": [
       "<div>\n",
       "<style scoped>\n",
       "    .dataframe tbody tr th:only-of-type {\n",
       "        vertical-align: middle;\n",
       "    }\n",
       "\n",
       "    .dataframe tbody tr th {\n",
       "        vertical-align: top;\n",
       "    }\n",
       "\n",
       "    .dataframe thead tr th {\n",
       "        text-align: left;\n",
       "    }\n",
       "\n",
       "    .dataframe thead tr:last-of-type th {\n",
       "        text-align: right;\n",
       "    }\n",
       "</style>\n",
       "<table border=\"1\" class=\"dataframe\">\n",
       "  <thead>\n",
       "    <tr>\n",
       "      <th>Ticker</th>\n",
       "      <th colspan=\"6\" halign=\"left\">BAC</th>\n",
       "      <th colspan=\"4\" halign=\"left\">C</th>\n",
       "      <th>...</th>\n",
       "      <th colspan=\"4\" halign=\"left\">MS</th>\n",
       "      <th colspan=\"6\" halign=\"left\">WFC</th>\n",
       "    </tr>\n",
       "    <tr>\n",
       "      <th>Stock Info</th>\n",
       "      <th>Open</th>\n",
       "      <th>High</th>\n",
       "      <th>Low</th>\n",
       "      <th>Close</th>\n",
       "      <th>Adj Close</th>\n",
       "      <th>Volume</th>\n",
       "      <th>Open</th>\n",
       "      <th>High</th>\n",
       "      <th>Low</th>\n",
       "      <th>Close</th>\n",
       "      <th>...</th>\n",
       "      <th>Low</th>\n",
       "      <th>Close</th>\n",
       "      <th>Adj Close</th>\n",
       "      <th>Volume</th>\n",
       "      <th>Open</th>\n",
       "      <th>High</th>\n",
       "      <th>Low</th>\n",
       "      <th>Close</th>\n",
       "      <th>Adj Close</th>\n",
       "      <th>Volume</th>\n",
       "    </tr>\n",
       "    <tr>\n",
       "      <th>Date</th>\n",
       "      <th></th>\n",
       "      <th></th>\n",
       "      <th></th>\n",
       "      <th></th>\n",
       "      <th></th>\n",
       "      <th></th>\n",
       "      <th></th>\n",
       "      <th></th>\n",
       "      <th></th>\n",
       "      <th></th>\n",
       "      <th></th>\n",
       "      <th></th>\n",
       "      <th></th>\n",
       "      <th></th>\n",
       "      <th></th>\n",
       "      <th></th>\n",
       "      <th></th>\n",
       "      <th></th>\n",
       "      <th></th>\n",
       "      <th></th>\n",
       "      <th></th>\n",
       "    </tr>\n",
       "  </thead>\n",
       "  <tbody>\n",
       "    <tr>\n",
       "      <th>2018-01-02</th>\n",
       "      <td>29.750000</td>\n",
       "      <td>29.900000</td>\n",
       "      <td>29.610001</td>\n",
       "      <td>29.900000</td>\n",
       "      <td>25.995726</td>\n",
       "      <td>57121600</td>\n",
       "      <td>75.089996</td>\n",
       "      <td>75.180000</td>\n",
       "      <td>74.019997</td>\n",
       "      <td>74.360001</td>\n",
       "      <td>...</td>\n",
       "      <td>52.169998</td>\n",
       "      <td>52.189999</td>\n",
       "      <td>43.752396</td>\n",
       "      <td>6644600</td>\n",
       "      <td>61.040001</td>\n",
       "      <td>61.360001</td>\n",
       "      <td>60.700001</td>\n",
       "      <td>61.090000</td>\n",
       "      <td>51.275238</td>\n",
       "      <td>13819300</td>\n",
       "    </tr>\n",
       "    <tr>\n",
       "      <th>2018-01-03</th>\n",
       "      <td>29.900000</td>\n",
       "      <td>29.940001</td>\n",
       "      <td>29.690001</td>\n",
       "      <td>29.799999</td>\n",
       "      <td>25.908791</td>\n",
       "      <td>57865700</td>\n",
       "      <td>74.349998</td>\n",
       "      <td>74.739998</td>\n",
       "      <td>73.970001</td>\n",
       "      <td>74.589996</td>\n",
       "      <td>...</td>\n",
       "      <td>51.919998</td>\n",
       "      <td>52.330002</td>\n",
       "      <td>43.869762</td>\n",
       "      <td>6955500</td>\n",
       "      <td>61.220001</td>\n",
       "      <td>61.770000</td>\n",
       "      <td>61.099998</td>\n",
       "      <td>61.560001</td>\n",
       "      <td>51.669735</td>\n",
       "      <td>14203700</td>\n",
       "    </tr>\n",
       "    <tr>\n",
       "      <th>2018-01-04</th>\n",
       "      <td>29.969999</td>\n",
       "      <td>30.440001</td>\n",
       "      <td>29.879999</td>\n",
       "      <td>30.190001</td>\n",
       "      <td>26.247862</td>\n",
       "      <td>76512500</td>\n",
       "      <td>75.010002</td>\n",
       "      <td>76.110001</td>\n",
       "      <td>74.660004</td>\n",
       "      <td>75.510002</td>\n",
       "      <td>...</td>\n",
       "      <td>52.509998</td>\n",
       "      <td>53.130001</td>\n",
       "      <td>44.540421</td>\n",
       "      <td>8678800</td>\n",
       "      <td>61.980000</td>\n",
       "      <td>63.049999</td>\n",
       "      <td>61.910000</td>\n",
       "      <td>62.330002</td>\n",
       "      <td>52.316025</td>\n",
       "      <td>18740500</td>\n",
       "    </tr>\n",
       "    <tr>\n",
       "      <th>2018-01-05</th>\n",
       "      <td>30.370001</td>\n",
       "      <td>30.420000</td>\n",
       "      <td>30.049999</td>\n",
       "      <td>30.330000</td>\n",
       "      <td>26.369587</td>\n",
       "      <td>56445200</td>\n",
       "      <td>75.709999</td>\n",
       "      <td>75.769997</td>\n",
       "      <td>74.959999</td>\n",
       "      <td>75.410004</td>\n",
       "      <td>...</td>\n",
       "      <td>52.740002</td>\n",
       "      <td>53.110001</td>\n",
       "      <td>44.523651</td>\n",
       "      <td>6476000</td>\n",
       "      <td>62.759998</td>\n",
       "      <td>62.810001</td>\n",
       "      <td>62.090000</td>\n",
       "      <td>62.750000</td>\n",
       "      <td>52.668533</td>\n",
       "      <td>14217900</td>\n",
       "    </tr>\n",
       "    <tr>\n",
       "      <th>2018-01-08</th>\n",
       "      <td>30.230000</td>\n",
       "      <td>30.270000</td>\n",
       "      <td>30.049999</td>\n",
       "      <td>30.120001</td>\n",
       "      <td>26.187008</td>\n",
       "      <td>42914800</td>\n",
       "      <td>75.169998</td>\n",
       "      <td>75.239998</td>\n",
       "      <td>74.330002</td>\n",
       "      <td>74.529999</td>\n",
       "      <td>...</td>\n",
       "      <td>52.689999</td>\n",
       "      <td>52.889999</td>\n",
       "      <td>44.339211</td>\n",
       "      <td>6681400</td>\n",
       "      <td>62.660000</td>\n",
       "      <td>62.730000</td>\n",
       "      <td>61.939999</td>\n",
       "      <td>62.040001</td>\n",
       "      <td>52.072609</td>\n",
       "      <td>15569400</td>\n",
       "    </tr>\n",
       "  </tbody>\n",
       "</table>\n",
       "<p>5 rows × 36 columns</p>\n",
       "</div>"
      ],
      "text/plain": [
       "Ticker            BAC                                                        \\\n",
       "Stock Info       Open       High        Low      Close  Adj Close    Volume   \n",
       "Date                                                                          \n",
       "2018-01-02  29.750000  29.900000  29.610001  29.900000  25.995726  57121600   \n",
       "2018-01-03  29.900000  29.940001  29.690001  29.799999  25.908791  57865700   \n",
       "2018-01-04  29.969999  30.440001  29.879999  30.190001  26.247862  76512500   \n",
       "2018-01-05  30.370001  30.420000  30.049999  30.330000  26.369587  56445200   \n",
       "2018-01-08  30.230000  30.270000  30.049999  30.120001  26.187008  42914800   \n",
       "\n",
       "Ticker              C                                   ...         MS  \\\n",
       "Stock Info       Open       High        Low      Close  ...        Low   \n",
       "Date                                                    ...              \n",
       "2018-01-02  75.089996  75.180000  74.019997  74.360001  ...  52.169998   \n",
       "2018-01-03  74.349998  74.739998  73.970001  74.589996  ...  51.919998   \n",
       "2018-01-04  75.010002  76.110001  74.660004  75.510002  ...  52.509998   \n",
       "2018-01-05  75.709999  75.769997  74.959999  75.410004  ...  52.740002   \n",
       "2018-01-08  75.169998  75.239998  74.330002  74.529999  ...  52.689999   \n",
       "\n",
       "Ticker                                           WFC                        \\\n",
       "Stock Info      Close  Adj Close   Volume       Open       High        Low   \n",
       "Date                                                                         \n",
       "2018-01-02  52.189999  43.752396  6644600  61.040001  61.360001  60.700001   \n",
       "2018-01-03  52.330002  43.869762  6955500  61.220001  61.770000  61.099998   \n",
       "2018-01-04  53.130001  44.540421  8678800  61.980000  63.049999  61.910000   \n",
       "2018-01-05  53.110001  44.523651  6476000  62.759998  62.810001  62.090000   \n",
       "2018-01-08  52.889999  44.339211  6681400  62.660000  62.730000  61.939999   \n",
       "\n",
       "Ticker                                      \n",
       "Stock Info      Close  Adj Close    Volume  \n",
       "Date                                        \n",
       "2018-01-02  61.090000  51.275238  13819300  \n",
       "2018-01-03  61.560001  51.669735  14203700  \n",
       "2018-01-04  62.330002  52.316025  18740500  \n",
       "2018-01-05  62.750000  52.668533  14217900  \n",
       "2018-01-08  62.040001  52.072609  15569400  \n",
       "\n",
       "[5 rows x 36 columns]"
      ]
     },
     "execution_count": 6,
     "metadata": {},
     "output_type": "execute_result"
    }
   ],
   "source": [
    "# Check for missing values and Optionally, drop any remaining NaN values\n",
    "bankStocks = stocks.dropna()\n",
    "bankStocks.head()"
   ]
  },
  {
   "cell_type": "markdown",
   "id": "b778ec36-cd00-4f95-93c9-2f858727f8c3",
   "metadata": {},
   "source": [
    "### EDA\n",
    "Let's explore the data a bit! Before continuing...\n",
    "Extract the 'Close' prices from the 'Stock Info' level of the DataFrame and then calculate the maximum value for each bank's stock. "
   ]
  },
  {
   "cell_type": "code",
   "execution_count": 7,
   "id": "cc248147-9a67-44b4-8d3d-a0c67205f3b2",
   "metadata": {},
   "outputs": [
    {
     "data": {
      "text/plain": [
       "Ticker\n",
       "BAC     49.380001\n",
       "C       81.910004\n",
       "GS     423.850006\n",
       "JPM    171.779999\n",
       "MS     108.730003\n",
       "WFC     65.930000\n",
       "dtype: float64"
      ]
     },
     "execution_count": 7,
     "metadata": {},
     "output_type": "execute_result"
    }
   ],
   "source": [
    "# Maximum Closing price for each bank's stock throughout the time period\n",
    "bankStocks.xs(key='Close', axis=1, level='Stock Info').max()"
   ]
  },
  {
   "cell_type": "markdown",
   "id": "3f4314aa-6276-4b70-b247-04b9d95f0a48",
   "metadata": {},
   "source": [
    "The highest closing price was Goldman Sach (GS) closing at USD 423.85 dollars, while the next highest is JP Morgan (JPM) closing at USD 171.78"
   ]
  },
  {
   "cell_type": "code",
   "execution_count": 8,
   "id": "cd8f1665-4fb1-41a5-828f-26f813467c7e",
   "metadata": {},
   "outputs": [
    {
     "data": {
      "text/plain": [
       "Ticker\n",
       "BAC     18.080000\n",
       "C       35.389999\n",
       "GS     134.970001\n",
       "JPM     79.029999\n",
       "MS      27.809999\n",
       "WFC     21.139999\n",
       "dtype: float64"
      ]
     },
     "execution_count": 8,
     "metadata": {},
     "output_type": "execute_result"
    }
   ],
   "source": [
    "# Minimum Closing price for each bank's stock throughout the time period\n",
    "bankStocks.xs(key='Close', axis=1, level='Stock Info').min()"
   ]
  },
  {
   "cell_type": "markdown",
   "id": "6c513ee0-1049-4b59-9372-5b08932053e9",
   "metadata": {},
   "source": [
    "The lowest closing price for the period was Bank of America (BAC) with stock closing at USD 18.08, while the lowest for Citigroup (C) was USD 35.39, "
   ]
  }
 ],
 "metadata": {
  "kernelspec": {
   "display_name": "Python 3 (ipykernel)",
   "language": "python",
   "name": "python3"
  },
  "language_info": {
   "codemirror_mode": {
    "name": "ipython",
    "version": 3
   },
   "file_extension": ".py",
   "mimetype": "text/x-python",
   "name": "python",
   "nbconvert_exporter": "python",
   "pygments_lexer": "ipython3",
   "version": "3.10.10"
  }
 },
 "nbformat": 4,
 "nbformat_minor": 5
}
