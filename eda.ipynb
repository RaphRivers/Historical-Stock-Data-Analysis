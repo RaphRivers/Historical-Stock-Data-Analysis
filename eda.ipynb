{
 "cells": [
  {
   "cell_type": "markdown",
   "id": "68e83768-191f-40c9-9274-2345ecf44a51",
   "metadata": {},
   "source": [
    "### EDA\n",
    "Let's explore the data a bit! Before continuing...\n",
    "Extract the 'Close' prices from the 'Stock Info' level of the DataFrame and then calculate the maximum value for each bank's stock. "
   ]
  },
  {
   "cell_type": "code",
   "execution_count": 27,
   "id": "5b0b4392-e287-46ff-a66a-d1cb21846e74",
   "metadata": {},
   "outputs": [],
   "source": [
    "# Import relevant libraries\n",
    "import pandas as pd\n",
    "import numpy as np\n",
    "import seaborn as sns\n",
    "import datetime as dt\n",
    "%matplotlib inline"
   ]
  },
  {
   "cell_type": "code",
   "execution_count": 24,
   "id": "7c375281-dfda-4cb6-a46d-d7871ea78c9e",
   "metadata": {},
   "outputs": [
    {
     "data": {
      "text/plain": [
       "'/home/jupyter-raphrivers/Historical-Stock-Data-Analysis'"
      ]
     },
     "execution_count": 24,
     "metadata": {},
     "output_type": "execute_result"
    }
   ],
   "source": [
    "pwd"
   ]
  },
  {
   "cell_type": "code",
   "execution_count": 34,
   "id": "1a1c7e09-da27-4a7b-9d2e-7b20e478a54b",
   "metadata": {},
   "outputs": [],
   "source": [
    "# import cleaned dataframe\n",
    "bstocks = ('/home/jupyter-raphrivers/Historical-Stock-Data-Analysis/assets/bankstocks.csv')\n",
    "bankStocks = pd.read_csv(bstocks, header=[0, 1])"
   ]
  },
  {
   "cell_type": "code",
   "execution_count": 38,
   "id": "ee94b6b2-35ce-4ec2-b992-3d8a38c190ac",
   "metadata": {},
   "outputs": [],
   "source": [
    "# Set the column name levels\n",
    "bankStocks.columns.names = ['Ticker','Stock Info']"
   ]
  },
  {
   "cell_type": "code",
   "execution_count": 35,
   "id": "32efd391-d5e0-4082-b757-f1c30c2021d2",
   "metadata": {
    "scrolled": true
   },
   "outputs": [
    {
     "data": {
      "text/html": [
       "<div>\n",
       "<style scoped>\n",
       "    .dataframe tbody tr th:only-of-type {\n",
       "        vertical-align: middle;\n",
       "    }\n",
       "\n",
       "    .dataframe tbody tr th {\n",
       "        vertical-align: top;\n",
       "    }\n",
       "\n",
       "    .dataframe thead tr th {\n",
       "        text-align: left;\n",
       "    }\n",
       "</style>\n",
       "<table border=\"1\" class=\"dataframe\">\n",
       "  <thead>\n",
       "    <tr>\n",
       "      <th></th>\n",
       "      <th>Ticker</th>\n",
       "      <th colspan=\"6\" halign=\"left\">BAC</th>\n",
       "      <th colspan=\"3\" halign=\"left\">C</th>\n",
       "      <th>...</th>\n",
       "      <th colspan=\"4\" halign=\"left\">MS</th>\n",
       "      <th colspan=\"6\" halign=\"left\">WFC</th>\n",
       "    </tr>\n",
       "    <tr>\n",
       "      <th></th>\n",
       "      <th>Stock Info</th>\n",
       "      <th>Open</th>\n",
       "      <th>High</th>\n",
       "      <th>Low</th>\n",
       "      <th>Close</th>\n",
       "      <th>Adj Close</th>\n",
       "      <th>Volume</th>\n",
       "      <th>Open</th>\n",
       "      <th>High</th>\n",
       "      <th>Low</th>\n",
       "      <th>...</th>\n",
       "      <th>Low</th>\n",
       "      <th>Close</th>\n",
       "      <th>Adj Close</th>\n",
       "      <th>Volume</th>\n",
       "      <th>Open</th>\n",
       "      <th>High</th>\n",
       "      <th>Low</th>\n",
       "      <th>Close</th>\n",
       "      <th>Adj Close</th>\n",
       "      <th>Volume</th>\n",
       "    </tr>\n",
       "  </thead>\n",
       "  <tbody>\n",
       "    <tr>\n",
       "      <th>0</th>\n",
       "      <td>Date</td>\n",
       "      <td>NaN</td>\n",
       "      <td>NaN</td>\n",
       "      <td>NaN</td>\n",
       "      <td>NaN</td>\n",
       "      <td>NaN</td>\n",
       "      <td>NaN</td>\n",
       "      <td>NaN</td>\n",
       "      <td>NaN</td>\n",
       "      <td>NaN</td>\n",
       "      <td>...</td>\n",
       "      <td>NaN</td>\n",
       "      <td>NaN</td>\n",
       "      <td>NaN</td>\n",
       "      <td>NaN</td>\n",
       "      <td>NaN</td>\n",
       "      <td>NaN</td>\n",
       "      <td>NaN</td>\n",
       "      <td>NaN</td>\n",
       "      <td>NaN</td>\n",
       "      <td>NaN</td>\n",
       "    </tr>\n",
       "    <tr>\n",
       "      <th>1</th>\n",
       "      <td>2018-01-02</td>\n",
       "      <td>29.750000</td>\n",
       "      <td>29.900000</td>\n",
       "      <td>29.610001</td>\n",
       "      <td>29.900000</td>\n",
       "      <td>25.995729</td>\n",
       "      <td>57121600.0</td>\n",
       "      <td>75.089996</td>\n",
       "      <td>75.180000</td>\n",
       "      <td>74.019997</td>\n",
       "      <td>...</td>\n",
       "      <td>52.169998</td>\n",
       "      <td>52.189999</td>\n",
       "      <td>43.752384</td>\n",
       "      <td>6644600.0</td>\n",
       "      <td>61.040001</td>\n",
       "      <td>61.360001</td>\n",
       "      <td>60.700001</td>\n",
       "      <td>61.090000</td>\n",
       "      <td>51.275253</td>\n",
       "      <td>13819300.0</td>\n",
       "    </tr>\n",
       "    <tr>\n",
       "      <th>2</th>\n",
       "      <td>2018-01-03</td>\n",
       "      <td>29.900000</td>\n",
       "      <td>29.940001</td>\n",
       "      <td>29.690001</td>\n",
       "      <td>29.799999</td>\n",
       "      <td>25.908791</td>\n",
       "      <td>57865700.0</td>\n",
       "      <td>74.349998</td>\n",
       "      <td>74.739998</td>\n",
       "      <td>73.970001</td>\n",
       "      <td>...</td>\n",
       "      <td>51.919998</td>\n",
       "      <td>52.330002</td>\n",
       "      <td>43.869759</td>\n",
       "      <td>6955500.0</td>\n",
       "      <td>61.220001</td>\n",
       "      <td>61.770000</td>\n",
       "      <td>61.099998</td>\n",
       "      <td>61.560001</td>\n",
       "      <td>51.669731</td>\n",
       "      <td>14203700.0</td>\n",
       "    </tr>\n",
       "    <tr>\n",
       "      <th>3</th>\n",
       "      <td>2018-01-04</td>\n",
       "      <td>29.969999</td>\n",
       "      <td>30.440001</td>\n",
       "      <td>29.879999</td>\n",
       "      <td>30.190001</td>\n",
       "      <td>26.247868</td>\n",
       "      <td>76512500.0</td>\n",
       "      <td>75.010002</td>\n",
       "      <td>76.110001</td>\n",
       "      <td>74.660004</td>\n",
       "      <td>...</td>\n",
       "      <td>52.509998</td>\n",
       "      <td>53.130001</td>\n",
       "      <td>44.540417</td>\n",
       "      <td>8678800.0</td>\n",
       "      <td>61.980000</td>\n",
       "      <td>63.049999</td>\n",
       "      <td>61.910000</td>\n",
       "      <td>62.330002</td>\n",
       "      <td>52.316029</td>\n",
       "      <td>18740500.0</td>\n",
       "    </tr>\n",
       "    <tr>\n",
       "      <th>4</th>\n",
       "      <td>2018-01-05</td>\n",
       "      <td>30.370001</td>\n",
       "      <td>30.420000</td>\n",
       "      <td>30.049999</td>\n",
       "      <td>30.330000</td>\n",
       "      <td>26.369587</td>\n",
       "      <td>56445200.0</td>\n",
       "      <td>75.709999</td>\n",
       "      <td>75.769997</td>\n",
       "      <td>74.959999</td>\n",
       "      <td>...</td>\n",
       "      <td>52.740002</td>\n",
       "      <td>53.110001</td>\n",
       "      <td>44.523651</td>\n",
       "      <td>6476000.0</td>\n",
       "      <td>62.759998</td>\n",
       "      <td>62.810001</td>\n",
       "      <td>62.090000</td>\n",
       "      <td>62.750000</td>\n",
       "      <td>52.668556</td>\n",
       "      <td>14217900.0</td>\n",
       "    </tr>\n",
       "  </tbody>\n",
       "</table>\n",
       "<p>5 rows × 37 columns</p>\n",
       "</div>"
      ],
      "text/plain": [
       "       Ticker        BAC                                              \\\n",
       "   Stock Info       Open       High        Low      Close  Adj Close   \n",
       "0        Date        NaN        NaN        NaN        NaN        NaN   \n",
       "1  2018-01-02  29.750000  29.900000  29.610001  29.900000  25.995729   \n",
       "2  2018-01-03  29.900000  29.940001  29.690001  29.799999  25.908791   \n",
       "3  2018-01-04  29.969999  30.440001  29.879999  30.190001  26.247868   \n",
       "4  2018-01-05  30.370001  30.420000  30.049999  30.330000  26.369587   \n",
       "\n",
       "                       C                        ...         MS             \\\n",
       "       Volume       Open       High        Low  ...        Low      Close   \n",
       "0         NaN        NaN        NaN        NaN  ...        NaN        NaN   \n",
       "1  57121600.0  75.089996  75.180000  74.019997  ...  52.169998  52.189999   \n",
       "2  57865700.0  74.349998  74.739998  73.970001  ...  51.919998  52.330002   \n",
       "3  76512500.0  75.010002  76.110001  74.660004  ...  52.509998  53.130001   \n",
       "4  56445200.0  75.709999  75.769997  74.959999  ...  52.740002  53.110001   \n",
       "\n",
       "                               WFC                                   \\\n",
       "   Adj Close     Volume       Open       High        Low      Close   \n",
       "0        NaN        NaN        NaN        NaN        NaN        NaN   \n",
       "1  43.752384  6644600.0  61.040001  61.360001  60.700001  61.090000   \n",
       "2  43.869759  6955500.0  61.220001  61.770000  61.099998  61.560001   \n",
       "3  44.540417  8678800.0  61.980000  63.049999  61.910000  62.330002   \n",
       "4  44.523651  6476000.0  62.759998  62.810001  62.090000  62.750000   \n",
       "\n",
       "                          \n",
       "   Adj Close      Volume  \n",
       "0        NaN         NaN  \n",
       "1  51.275253  13819300.0  \n",
       "2  51.669731  14203700.0  \n",
       "3  52.316029  18740500.0  \n",
       "4  52.668556  14217900.0  \n",
       "\n",
       "[5 rows x 37 columns]"
      ]
     },
     "execution_count": 35,
     "metadata": {},
     "output_type": "execute_result"
    }
   ],
   "source": [
    "bankStocks.head()"
   ]
  },
  {
   "cell_type": "code",
   "execution_count": 39,
   "id": "1221095b-eabb-4a97-837e-1085e86b3de8",
   "metadata": {},
   "outputs": [
    {
     "data": {
      "text/plain": [
       "Ticker\n",
       "BAC     49.380001\n",
       "C       81.910004\n",
       "GS     423.850006\n",
       "JPM    171.779999\n",
       "MS     108.730003\n",
       "WFC     65.930000\n",
       "dtype: float64"
      ]
     },
     "execution_count": 39,
     "metadata": {},
     "output_type": "execute_result"
    }
   ],
   "source": [
    "# Maximum Closing price for each bank's stock throughout the time period\n",
    "bankStocks.xs(key='Close', axis=1, level='Stock Info').max()"
   ]
  },
  {
   "cell_type": "markdown",
   "id": "a200d4a9-844d-4055-8b01-7a513688a5be",
   "metadata": {},
   "source": [
    "The highest closing price was Goldman Sach (GS) closing at USD 423.85 dollars, while the next highest is JP Morgan (JPM) closing at USD 171.78"
   ]
  },
  {
   "cell_type": "code",
   "execution_count": 40,
   "id": "23bf8aad-356a-4cd3-a65b-dcb80a22a832",
   "metadata": {},
   "outputs": [
    {
     "data": {
      "text/plain": [
       "Ticker\n",
       "BAC     18.080000\n",
       "C       35.389999\n",
       "GS     134.970001\n",
       "JPM     79.029999\n",
       "MS      27.809999\n",
       "WFC     21.139999\n",
       "dtype: float64"
      ]
     },
     "execution_count": 40,
     "metadata": {},
     "output_type": "execute_result"
    }
   ],
   "source": [
    "# Minimum Closing price for each bank's stock throughout the time period\n",
    "bankStocks.xs(key='Close', axis=1, level='Stock Info').min()"
   ]
  },
  {
   "cell_type": "markdown",
   "id": "d528dfac-8e1e-4e43-b2fa-559220eaebfa",
   "metadata": {},
   "source": [
    "The lowest closing price for the period was Bank of America (BAC) with stock closing at USD 18.08, while the lowest for Citigroup (C) was USD 35.39, "
   ]
  }
 ],
 "metadata": {
  "kernelspec": {
   "display_name": "Python 3 (ipykernel)",
   "language": "python",
   "name": "python3"
  },
  "language_info": {
   "codemirror_mode": {
    "name": "ipython",
    "version": 3
   },
   "file_extension": ".py",
   "mimetype": "text/x-python",
   "name": "python",
   "nbconvert_exporter": "python",
   "pygments_lexer": "ipython3",
   "version": "3.10.10"
  }
 },
 "nbformat": 4,
 "nbformat_minor": 5
}
